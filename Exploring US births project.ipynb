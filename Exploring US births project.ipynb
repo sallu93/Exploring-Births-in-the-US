{
 "cells": [
  {
   "cell_type": "code",
   "execution_count": 1,
   "metadata": {
    "collapsed": false
   },
   "outputs": [
    {
     "data": {
      "text/plain": [
       "[[1994, 1, 1, 6, 8096],\n",
       " [1994, 1, 2, 7, 7772],\n",
       " [1994, 1, 3, 1, 10142],\n",
       " [1994, 1, 4, 2, 11248],\n",
       " [1994, 1, 5, 3, 11053],\n",
       " [1994, 1, 6, 4, 11406],\n",
       " [1994, 1, 7, 5, 11251],\n",
       " [1994, 1, 8, 6, 8653],\n",
       " [1994, 1, 9, 7, 7910],\n",
       " [1994, 1, 10, 1, 10498]]"
      ]
     },
     "execution_count": 1,
     "metadata": {},
     "output_type": "execute_result"
    }
   ],
   "source": [
    "# Converting data into a list of lists to get a more structured format to be able to analyze it. \n",
    "def read_csv(file):\n",
    "    f = open(file,'r').read().split(\"\\n\")\n",
    "    string_list = f[1:len(f)]\n",
    "    final_list = []\n",
    "    \n",
    "    for lst in string_list:\n",
    "        int_fields = []\n",
    "        string_fields = lst.split(',')\n",
    "        for each in string_fields:\n",
    "            int_fields.append(int(each))\n",
    "        final_list.append(int_fields)\n",
    "    return final_list\n",
    "            \n",
    "cdc_list = read_csv(\"US_births_1994-2003_CDC_NCHS.csv\")\n",
    "cdc_list[:10]"
   ]
  },
  {
   "cell_type": "code",
   "execution_count": 2,
   "metadata": {
    "collapsed": false
   },
   "outputs": [
    {
     "data": {
      "text/plain": [
       "{1: 3232517,\n",
       " 2: 3018140,\n",
       " 3: 3322069,\n",
       " 4: 3185314,\n",
       " 5: 3350907,\n",
       " 6: 3296530,\n",
       " 7: 3498783,\n",
       " 8: 3525858,\n",
       " 9: 3439698,\n",
       " 10: 3378814,\n",
       " 11: 3171647,\n",
       " 12: 3301860}"
      ]
     },
     "execution_count": 2,
     "metadata": {},
     "output_type": "execute_result"
    }
   ],
   "source": [
    "# Creating a funtion to calculate the total number of births that occured in each month, across all of the years in the dataset.\n",
    "def month_births(lst):\n",
    "    births_per_month = dict()\n",
    "    for each in lst:\n",
    "        month_value = each[1]\n",
    "        birth_value = each[4]\n",
    "        if month_value in births_per_month:\n",
    "            births_per_month[month_value] += birth_value\n",
    "        else:\n",
    "            births_per_month[month_value] = birth_value\n",
    "    return births_per_month\n",
    "\n",
    "cdc_months_births = month_births(cdc_list)\n",
    "cdc_months_births\n",
    "    "
   ]
  },
  {
   "cell_type": "code",
   "execution_count": 3,
   "metadata": {
    "collapsed": false
   },
   "outputs": [
    {
     "data": {
      "text/plain": [
       "{1: 5789166,\n",
       " 2: 6446196,\n",
       " 3: 6322855,\n",
       " 4: 6288429,\n",
       " 5: 6233657,\n",
       " 6: 4562111,\n",
       " 7: 4079723}"
      ]
     },
     "execution_count": 3,
     "metadata": {},
     "output_type": "execute_result"
    }
   ],
   "source": [
    "# Creating a funtion to calculate the total number of births for each day of the week.\n",
    "\n",
    "def dow_births(lst):\n",
    "    births_per_dow = dict()\n",
    "    for each in lst:\n",
    "        dow_value = each[3]\n",
    "        birth_value = each[4]\n",
    "        if dow_value in births_per_dow:\n",
    "            births_per_dow[dow_value] += birth_value\n",
    "        else:\n",
    "            births_per_dow[dow_value] = birth_value\n",
    "    return births_per_dow\n",
    "\n",
    "cdc_day_births = dow_births(cdc_list)\n",
    "cdc_day_births\n",
    "    \n"
   ]
  },
  {
   "cell_type": "code",
   "execution_count": 6,
   "metadata": {
    "collapsed": false
   },
   "outputs": [
    {
     "name": "stdout",
     "output_type": "stream",
     "text": [
      "{2000: 4058814, 2001: 4025933, 2002: 4021726, 2003: 4089950, 1994: 3952767, 1995: 3899589, 1996: 3891494, 1997: 3880894, 1998: 3941553, 1999: 3959417}\n",
      "{1: 3232517, 2: 3018140, 3: 3322069, 4: 3185314, 5: 3350907, 6: 3296530, 7: 3498783, 8: 3525858, 9: 3439698, 10: 3378814, 11: 3171647, 12: 3301860}\n",
      "{1: 1276557, 2: 1288739, 3: 1304499, 4: 1288154, 5: 1299953, 6: 1304474, 7: 1310459, 8: 1312297, 9: 1303292, 10: 1320764, 11: 1314361, 12: 1318437, 13: 1277684, 14: 1320153, 15: 1319171, 16: 1315192, 17: 1324953, 18: 1326855, 19: 1318727, 20: 1324821, 21: 1322897, 22: 1317381, 23: 1293290, 24: 1288083, 25: 1272116, 26: 1284796, 27: 1294395, 28: 1307685, 29: 1223161, 30: 1202095, 31: 746696}\n",
      "{1: 5789166, 2: 6446196, 3: 6322855, 4: 6288429, 5: 6233657, 6: 4562111, 7: 4079723}\n"
     ]
    }
   ],
   "source": [
    "# Creating one funtion that can be used to calcluate number of births associated with any column. \n",
    "def calc_counts(lst,column):\n",
    "    column = column - 1\n",
    "    births = dict()\n",
    "    for each in lst:\n",
    "        col_value = each[column]\n",
    "        birth_value = each[4]\n",
    "        if col_value in births:\n",
    "            births[col_value] += birth_value\n",
    "        else:\n",
    "            births[col_value] = birth_value\n",
    "    return births\n",
    "\n",
    "cdc_dow_births = calc_counts(cdc_list, 4)\n",
    "cdc_dom_births = calc_counts(cdc_list, 3)\n",
    "cdc_month_births = calc_counts(cdc_list, 2)\n",
    "cdc_year_births = calc_counts(cdc_list, 1)\n",
    "\n",
    "print (cdc_year_births)\n",
    "print (cdc_month_births)\n",
    "print (cdc_dom_births)\n",
    "print (cdc_dow_births)\n",
    "\n",
    "\n",
    "\n",
    "    \n",
    "    \n",
    "    "
   ]
  },
  {
   "cell_type": "code",
   "execution_count": null,
   "metadata": {
    "collapsed": true
   },
   "outputs": [],
   "source": []
  }
 ],
 "metadata": {
  "anaconda-cloud": {},
  "kernelspec": {
   "display_name": "Python 3",
   "language": "python",
   "name": "python3"
  },
  "language_info": {
   "codemirror_mode": {
    "name": "ipython",
    "version": 3
   },
   "file_extension": ".py",
   "mimetype": "text/x-python",
   "name": "python",
   "nbconvert_exporter": "python",
   "pygments_lexer": "ipython3",
   "version": "3.4.3"
  }
 },
 "nbformat": 4,
 "nbformat_minor": 1
}
